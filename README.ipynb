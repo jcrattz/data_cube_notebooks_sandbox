{
 "cells": [
  {
   "cell_type": "markdown",
   "metadata": {},
   "source": [
    "## CEOS Open Data Cube Sandbox Notebooks\n",
    "\n",
    "The CEOS Open Data Cube Sandbox Notebooks is a collection of Jupyter Notebooks using the [Open Data Cube](https://www.opendatacube.org/) to analyze satellite data. These are modified versions of the [CEOS Open Data Cube Notebooks](https://github.com/ceos-seo/data_cube_notebooks) - mainly changed to accommodate differences in data availability.\n",
    "\n",
    "Specifically, the notebooks here are part of the [Data Cube Applications Library (DCAL)](https://www.opendatacube.org/dcal), which demonstrate how to perform several common tasks in geospatial analyses such as calculating spectral indices, obtaining time-series composites (or \"mosaics\"), detecting water, and more."
   ]
  }
 ],
 "metadata": {
  "kernelspec": {
   "display_name": "Python 3",
   "language": "python",
   "name": "python3"
  },
  "language_info": {
   "codemirror_mode": {
    "name": "ipython",
    "version": 3
   },
   "file_extension": ".py",
   "mimetype": "text/x-python",
   "name": "python",
   "nbconvert_exporter": "python",
   "pygments_lexer": "ipython3",
   "version": "3.6.9"
  }
 },
 "nbformat": 4,
 "nbformat_minor": 4
}