{
 "cells": [
  {
   "cell_type": "markdown",
   "metadata": {
    "pycharm": {}
   },
   "source": [
    "<a id=\"top\"></a>\n",
    "# Water Observations from Space (WOfS)\n",
    "\n",
    "<hr>\n",
    "\n",
    "# Notebook Summary\n",
    "\n",
    "This notebook demonstrates the Australian Water Observations from Space (WOfS) algorithm. This water detection algorithm is significantly better than the Landsat QA water flag or the NDWI index for water identification. \n",
    "<br><br>\n",
    "For more information about WOfS, visit [this website](http://www.ga.gov.au/scientific-topics/hazards/flood/wofs).\n",
    "\n",
    "<hr>\n",
    "\n",
    "# Index\n",
    "\n",
    "* Import Dependencies and Connect to the Data Cube\n",
    "* Choose Platforms and Products\n",
    "* Get the Extents of the Cube\n",
    "* Define the Analysis Parameters\n",
    "* Load and Clean Data from the Data Cube\n",
    "* Time Series Water Detection Analysis\n",
    "* Create GeoTIFF Output Products"
   ]
  },
  {
   "cell_type": "markdown",
   "metadata": {
    "pycharm": {}
   },
   "source": [
    "Set **nb_name** to the name of this notebook for storing files separately from copies of it."
   ]
  },
  {
   "cell_type": "code",
   "execution_count": 1,
   "metadata": {
    "pycharm": {},
    "scrolled": true
   },
   "outputs": [],
   "source": [
    "nb_name = \"DCAL_Water_WOFS\""
   ]
  },
  {
   "cell_type": "markdown",
   "metadata": {
    "pycharm": {}
   },
   "source": [
    "## Import Dependencies and Connect to the Data Cube"
   ]
  },
  {
   "cell_type": "code",
   "execution_count": 2,
   "metadata": {
    "pycharm": {}
   },
   "outputs": [],
   "source": [
    "# Enable importing of utilities.\n",
    "import sys\n",
    "sys.path.append('..')\n",
    "\n",
    "import numpy as np  \n",
    "import xarray as xr\n",
    "import pandas as pd\n",
    "from pandas.plotting import register_matplotlib_converters\n",
    "register_matplotlib_converters()\n",
    "import matplotlib.pyplot as plt\n",
    "\n",
    "%matplotlib inline\n",
    "\n",
    "# Load Data Cube Configuration\n",
    "import datacube\n",
    "import utils.data_access_api as dc_api\n",
    "\n",
    "api = dc_api.DataAccessApi()\n",
    "dc = api.dc"
   ]
  },
  {
   "cell_type": "markdown",
   "metadata": {
    "pycharm": {
     "metadata": false,
     "name": "#%% md\n"
    }
   },
   "source": [
    "## Choose Platforms and Products"
   ]
  },
  {
   "cell_type": "markdown",
   "metadata": {
    "pycharm": {
     "metadata": false,
     "name": "#%% md\n"
    }
   },
   "source": [
    "**List available products for each platform**"
   ]
  },
  {
   "cell_type": "code",
   "execution_count": 3,
   "metadata": {
    "pycharm": {
     "metadata": false,
     "name": "#%% \n"
    }
   },
   "outputs": [
    {
     "name": "stdout",
     "output_type": "stream",
     "text": [
      "LANDSAT 7 Products:\n"
     ]
    },
    {
     "data": {
      "text/html": [
       "<div>\n",
       "<style scoped>\n",
       "    .dataframe tbody tr th:only-of-type {\n",
       "        vertical-align: middle;\n",
       "    }\n",
       "\n",
       "    .dataframe tbody tr th {\n",
       "        vertical-align: top;\n",
       "    }\n",
       "\n",
       "    .dataframe thead th {\n",
       "        text-align: right;\n",
       "    }\n",
       "</style>\n",
       "<table border=\"1\" class=\"dataframe\">\n",
       "  <thead>\n",
       "    <tr style=\"text-align: right;\">\n",
       "      <th></th>\n",
       "      <th>platform</th>\n",
       "      <th>name</th>\n",
       "    </tr>\n",
       "    <tr>\n",
       "      <th>id</th>\n",
       "      <th></th>\n",
       "      <th></th>\n",
       "    </tr>\n",
       "  </thead>\n",
       "  <tbody>\n",
       "    <tr>\n",
       "      <th>2</th>\n",
       "      <td>LANDSAT_7</td>\n",
       "      <td>ls7_usgs_sr_scene</td>\n",
       "    </tr>\n",
       "  </tbody>\n",
       "</table>\n",
       "</div>"
      ],
      "text/plain": [
       "     platform               name\n",
       "id                              \n",
       "2   LANDSAT_7  ls7_usgs_sr_scene"
      ]
     },
     "execution_count": 3,
     "metadata": {},
     "output_type": "execute_result"
    }
   ],
   "source": [
    "# Get available products\n",
    "products_info = dc.list_products()\n",
    "\n",
    "# List LANDSAT 7 products\n",
    "print(\"LANDSAT 7 Products:\")\n",
    "products_info[[\"platform\", \"name\"]][products_info.platform == \"LANDSAT_7\"]"
   ]
  },
  {
   "cell_type": "code",
   "execution_count": 4,
   "metadata": {
    "pycharm": {
     "metadata": false,
     "name": "#%%\n"
    }
   },
   "outputs": [
    {
     "name": "stdout",
     "output_type": "stream",
     "text": [
      "LANDSAT 8 Products:\n"
     ]
    },
    {
     "data": {
      "text/html": [
       "<div>\n",
       "<style scoped>\n",
       "    .dataframe tbody tr th:only-of-type {\n",
       "        vertical-align: middle;\n",
       "    }\n",
       "\n",
       "    .dataframe tbody tr th {\n",
       "        vertical-align: top;\n",
       "    }\n",
       "\n",
       "    .dataframe thead th {\n",
       "        text-align: right;\n",
       "    }\n",
       "</style>\n",
       "<table border=\"1\" class=\"dataframe\">\n",
       "  <thead>\n",
       "    <tr style=\"text-align: right;\">\n",
       "      <th></th>\n",
       "      <th>platform</th>\n",
       "      <th>name</th>\n",
       "    </tr>\n",
       "    <tr>\n",
       "      <th>id</th>\n",
       "      <th></th>\n",
       "      <th></th>\n",
       "    </tr>\n",
       "  </thead>\n",
       "  <tbody>\n",
       "    <tr>\n",
       "      <th>1</th>\n",
       "      <td>LANDSAT_8</td>\n",
       "      <td>ls8_usgs_sr_scene</td>\n",
       "    </tr>\n",
       "  </tbody>\n",
       "</table>\n",
       "</div>"
      ],
      "text/plain": [
       "     platform               name\n",
       "id                              \n",
       "1   LANDSAT_8  ls8_usgs_sr_scene"
      ]
     },
     "execution_count": 4,
     "metadata": {},
     "output_type": "execute_result"
    }
   ],
   "source": [
    "# List LANDSAT 8 products\n",
    "print(\"LANDSAT 8 Products:\")\n",
    "products_info[[\"platform\", \"name\"]][products_info.platform == \"LANDSAT_8\"]"
   ]
  },
  {
   "cell_type": "markdown",
   "metadata": {
    "pycharm": {
     "metadata": false
    }
   },
   "source": [
    "**Choose products**"
   ]
  },
  {
   "cell_type": "markdown",
   "metadata": {
    "pycharm": {
     "metadata": false,
     "name": "#%% md\n"
    }
   },
   "source": [
    "<p style=\"color:red\";><b>CHANGE INPUTS BELOW"
   ]
  },
  {
   "cell_type": "code",
   "execution_count": 5,
   "metadata": {
    "pycharm": {
     "metadata": false,
     "name": "#%%\n"
    }
   },
   "outputs": [],
   "source": [
    "# CHANGE HERE >>>>>>>>>>>>>>>>>\n",
    "\n",
    "# Select a Product and Platform\n",
    "# product = \"ls7_usgs_sr_scene\"\n",
    "# platform = \"LANDSAT_7\"\n",
    "\n",
    "product = \"ls8_usgs_sr_scene\"\n",
    "platform = \"LANDSAT_8\""
   ]
  },
  {
   "cell_type": "markdown",
   "metadata": {
    "pycharm": {
     "metadata": false
    }
   },
   "source": [
    "## Get the Extents of the Cube"
   ]
  },
  {
   "cell_type": "code",
   "execution_count": 6,
   "metadata": {
    "pycharm": {
     "metadata": false,
     "name": "#%%\n"
    }
   },
   "outputs": [
    {
     "name": "stdout",
     "output_type": "stream",
     "text": [
      "Latitude Extents: (-12.63361111121218, 18.40166666681388)\n",
      "Longitude Extents: (-25.47250000020378, 44.01000000035208)\n",
      "Time Extents: ['2013-03-21', '2020-01-27']\n"
     ]
    }
   ],
   "source": [
    "from utils.dc_load import get_product_extents\n",
    "from utils.dc_time import dt_to_str\n",
    "\n",
    "full_lat, full_lon, min_max_dates = get_product_extents(api, platform, product)\n",
    "\n",
    "# Print the extents of the combined data.\n",
    "print(\"Latitude Extents:\", full_lat)\n",
    "print(\"Longitude Extents:\", full_lon)\n",
    "print(\"Time Extents:\", list(map(dt_to_str, min_max_dates)))"
   ]
  },
  {
   "cell_type": "markdown",
   "metadata": {
    "pycharm": {
     "metadata": false,
     "name": "#%% md\n"
    }
   },
   "source": [
    "**Visualize the available area**"
   ]
  },
  {
   "cell_type": "code",
   "execution_count": 7,
   "metadata": {
    "pycharm": {
     "metadata": false,
     "name": "#%%\n"
    }
   },
   "outputs": [
    {
     "data": {
      "text/html": [
       "<div style=\"width:100%;\"><div style=\"position:relative;width:100%;height:0;padding-bottom:60%;\"><iframe src=\"data:text/html;charset=utf-8;base64,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\" style=\"position:absolute;width:100%;height:100%;left:0;top:0;border:none !important;\" allowfullscreen webkitallowfullscreen mozallowfullscreen></iframe></div></div>"
      ],
      "text/plain": [
       "<folium.folium.Map at 0x7f85c73af438>"
      ]
     },
     "execution_count": 7,
     "metadata": {},
     "output_type": "execute_result"
    }
   ],
   "source": [
    "from utils.dc_display_map import display_map\n",
    "display_map(full_lat, full_lon)"
   ]
  },
  {
   "cell_type": "markdown",
   "metadata": {
    "pycharm": {
     "metadata": false
    }
   },
   "source": [
    "## Define the Analysis Parameters"
   ]
  },
  {
   "cell_type": "markdown",
   "metadata": {
    "pycharm": {
     "metadata": false
    }
   },
   "source": [
    "<p style=\"color:red\";><b>CHANGE INPUTS BELOW"
   ]
  },
  {
   "cell_type": "code",
   "execution_count": 8,
   "metadata": {
    "pycharm": {
     "metadata": false,
     "name": "#%%\n"
    }
   },
   "outputs": [],
   "source": [
    "# Select an analysis region (Lat-Lon) within the extents listed above. \n",
    "# Be sure you check whether you are using L7 or L8 as the time extents are very different\n",
    "# HINT: Keep your region small (<0.5 deg square) to avoid memory overload issues\n",
    "# Select a time period (Min-Max) within the extents listed above (Year-Month-Day)\n",
    "# This region and time period will be used for the water assessment\n",
    "\n",
    "# Mombasa, Kenya\n",
    "latitude_extents = (-4.0475, -3.9574) \n",
    "longitude_extents = (39.6028, 39.6792) \n",
    "time_extents = ('2016-01-01', '2016-12-31')\n",
    "\n",
    "# L. Tanganyika, Tanzania\n",
    "# latitude_extents = (-8.8901, -3.3042) \n",
    "# longitude_extents = (29.0069, 31.2510)\n",
    "# time_extents = ('2016-01-01', '2017-01-01')\n",
    "\n",
    "# L. Turkana, Kenya\n",
    "# latitude_extents = ( 2.3248, 4.6859) \n",
    "# longitude_extents = (35.7751, 36.7639) \n",
    "# time_extents = ('2000-01-01', '2015-01-01')\n",
    "\n",
    "# Ndakaini Dam, Kenya (provides water to Nairobi)\n",
    "# latitude_extents =  (-0.8269, -0.8090) \n",
    "# longitude_extents =  (36.8192, 36.8529)\n",
    "# time_extents = ('2000-01-01', '2018-01-01')"
   ]
  },
  {
   "cell_type": "markdown",
   "metadata": {
    "pycharm": {
     "metadata": false
    }
   },
   "source": [
    "**Visualize the selected area**"
   ]
  },
  {
   "cell_type": "code",
   "execution_count": 9,
   "metadata": {
    "pycharm": {}
   },
   "outputs": [
    {
     "data": {
      "text/html": [
       "<div style=\"width:100%;\"><div style=\"position:relative;width:100%;height:0;padding-bottom:60%;\"><iframe src=\"data:text/html;charset=utf-8;base64,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\" style=\"position:absolute;width:100%;height:100%;left:0;top:0;border:none !important;\" allowfullscreen webkitallowfullscreen mozallowfullscreen></iframe></div></div>"
      ],
      "text/plain": [
       "<folium.folium.Map at 0x7f863016a1d0>"
      ]
     },
     "execution_count": 9,
     "metadata": {},
     "output_type": "execute_result"
    }
   ],
   "source": [
    "display_map(latitude = latitude_extents, longitude = longitude_extents)"
   ]
  },
  {
   "cell_type": "markdown",
   "metadata": {
    "pycharm": {
     "metadata": false
    }
   },
   "source": [
    "## Load and Clean Data from the Data Cube\n",
    "After loading, you will view the Xarray dataset. Notice the dimensions represent the number of pixels in your latitude and longitude dimension as well as the number of time slices (time) in your time series."
   ]
  },
  {
   "cell_type": "code",
   "execution_count": 10,
   "metadata": {
    "pycharm": {}
   },
   "outputs": [
    {
     "name": "stdout",
     "output_type": "stream",
     "text": [
      "<xarray.Dataset>\n",
      "Dimensions:    (latitude: 325, longitude: 276, time: 19)\n",
      "Coordinates:\n",
      "  * time       (time) datetime64[ns] 2016-01-10T07:31:41.510529 ... 2016-12-27T07:31:51.423561\n",
      "  * latitude   (latitude) float64 -3.957 -3.958 -3.958 ... -4.047 -4.047 -4.047\n",
      "  * longitude  (longitude) float64 39.6 39.6 39.6 39.6 ... 39.68 39.68 39.68\n",
      "Data variables:\n",
      "    *empty*\n",
      "Attributes:\n",
      "    crs:      EPSG:4326\n"
     ]
    }
   ],
   "source": [
    "# Perform an empty load to create a blank dataset with correct dimensions.\n",
    "landsat_dataset = dc.load(\n",
    "    platform = platform,\n",
    "    product = product,\n",
    "    latitude = latitude_extents,\n",
    "    longitude = longitude_extents,\n",
    "    time = time_extents,\n",
    "    measurements = [], # Do not load any measurements.\n",
    ")\n",
    "print(landsat_dataset)\n",
    "ds_times = landsat_dataset.time # Save the acquisition dates for later\n",
    "landsat_dataset = landsat_dataset.drop('time') # Drop time dimension"
   ]
  },
  {
   "cell_type": "code",
   "execution_count": 11,
   "metadata": {
    "pycharm": {}
   },
   "outputs": [
    {
     "data": {
      "text/plain": [
       "<xarray.Dataset>\n",
       "Dimensions:      (latitude: 325, longitude: 276)\n",
       "Coordinates:\n",
       "  * latitude     (latitude) float64 -3.957 -3.958 -3.958 ... -4.047 -4.047\n",
       "  * longitude    (longitude) float64 39.6 39.6 39.6 39.6 ... 39.68 39.68 39.68\n",
       "Data variables:\n",
       "    count_total  (latitude, longitude) uint16 0 0 0 0 0 0 0 0 ... 0 0 0 0 0 0 0\n",
       "    count_water  (latitude, longitude) uint16 0 0 0 0 0 0 0 0 ... 0 0 0 0 0 0 0"
      ]
     },
     "execution_count": 11,
     "metadata": {},
     "output_type": "execute_result"
    }
   ],
   "source": [
    "# Create a new band which will be used to store total number of NON-CLOUD (land+water) pixels\n",
    "landsat_dataset = landsat_dataset.assign({\n",
    "    'count_total':\n",
    "    xr.DataArray(\n",
    "        np.zeros([d for d in landsat_dataset.dims.values()], dtype=np.uint16),\n",
    "        dims=landsat_dataset.dims,\n",
    "        coords=landsat_dataset.coords,\n",
    "    ),\n",
    "})\n",
    "# Create a new band which will be used to store total number of WATER pixels (subset of NON-CLOUD)\n",
    "landsat_dataset = landsat_dataset.assign({\n",
    "    'count_water':\n",
    "    xr.DataArray(\n",
    "        np.zeros([d for d in landsat_dataset.dims.values()], dtype=np.uint16),\n",
    "        dims=landsat_dataset.dims,\n",
    "        coords=landsat_dataset.coords,\n",
    "    ),\n",
    "})\n",
    "# Remove some attributes to allow saving of progress to NetCDF files.\n",
    "del landsat_dataset.attrs['crs'], ds_times.attrs['units']\n",
    "landsat_dataset"
   ]
  },
  {
   "cell_type": "code",
   "execution_count": 12,
   "metadata": {
    "pycharm": {}
   },
   "outputs": [],
   "source": [
    "# This function just outputs a progress bar so I know things are still moving...\n",
    "def progbar(progress, start_time=None, start_progress=0, msg='Progress:', bar_length=50):\n",
    "    from IPython.display import clear_output\n",
    "    import datetime\n",
    "    \n",
    "    # Clamp progress\n",
    "    if not isinstance(progress, (float,int)): progress = 0;\n",
    "    elif progress < 0: progress = 0;\n",
    "    elif progress >= 1: progress = 1;\n",
    "        \n",
    "    # ETA\n",
    "    if progress>0 and isinstance(start_time, datetime.datetime):\n",
    "        cur_time = datetime.datetime.utcnow()\n",
    "        \n",
    "        per_step_dur = (cur_time - start_time)/(progress-start_progress)\n",
    "        duration = per_step_dur*progress # Estimated processing duration until this point.\n",
    "        \n",
    "        eta_dur  = duration*(1-progress)/progress\n",
    "        eta_time = cur_time + eta_dur\n",
    "        time_str = \"ETA: {eta} ({mins:.2f} min)\".format(\n",
    "            eta = str(eta_time.isoformat(' ', timespec='seconds')),\n",
    "            mins = eta_dur.seconds / 60,\n",
    "        )\n",
    "    else: time_str =\"\";\n",
    "        \n",
    "    # Print it out\n",
    "    blocks = int(round(bar_length * progress))\n",
    "    clear_output(wait = True)\n",
    "    print(\"{msg} [{bar}] {pct:.1f}% {time_str}\".format( bar=\"#\" * blocks + \"-\" * (bar_length - blocks), pct=progress * 100, msg=msg, time_str=time_str))\n",
    "    \n",
    "    return datetime.datetime.utcnow() # Return current time"
   ]
  },
  {
   "cell_type": "code",
   "execution_count": 13,
   "metadata": {
    "pycharm": {}
   },
   "outputs": [
    {
     "name": "stdout",
     "output_type": "stream",
     "text": [
      "Progress: [##################################################] 100.0% \n"
     ]
    },
    {
     "data": {
      "text/plain": [
       "<xarray.Dataset>\n",
       "Dimensions:      (latitude: 325, longitude: 276)\n",
       "Coordinates:\n",
       "  * latitude     (latitude) float64 -3.957 -3.958 -3.958 ... -4.047 -4.047\n",
       "  * longitude    (longitude) float64 39.6 39.6 39.6 39.6 ... 39.68 39.68 39.68\n",
       "Data variables:\n",
       "    count_total  (latitude, longitude) uint16 0 0 0 0 0 0 0 0 ... 3 3 2 7 8 10 0\n",
       "    count_water  (latitude, longitude) uint16 0 0 0 0 0 0 0 0 ... 0 0 0 7 8 10 0"
      ]
     },
     "execution_count": 13,
     "metadata": {},
     "output_type": "execute_result"
    }
   ],
   "source": [
    "from utils.clean_mask import landsat_qa_clean_mask\n",
    "from utils.dc_water_classifier import wofs_classify\n",
    "from utils.dc_load import is_dataset_empty\n",
    "import os\n",
    "import pickle\n",
    "\n",
    "# Create a DataArray to hold the per-acquisition water percentages.\n",
    "timeslice_water_pct = xr.DataArray(np.full(len(ds_times), np.nan), name='timeslice_water_pct',\n",
    "                                   dims=ds_times.dims, coords=ds_times.coords)\n",
    "# Reset counters to zero (just in case we run this cell multiple times for some reason).\n",
    "landsat_dataset.count_water.values*=0\n",
    "landsat_dataset.count_total.values*=0\n",
    "\n",
    "# Create geographic chunks.\n",
    "from utils.dc_chunker import create_geographic_chunks\n",
    "geographic_chunks = create_geographic_chunks(longitude_extents, latitude_extents, 0.1)\n",
    "\n",
    "tmp_dir = 'tmp/{}'.format(nb_name)\n",
    "if not os.path.exists(tmp_dir):\n",
    "    os.makedirs(tmp_dir)\n",
    "\n",
    "# Check if we are continuing the previous task (parameter set).\n",
    "params_filepath = '{}/params.pkl'.format(tmp_dir) \n",
    "measurements = ['red', 'green', 'blue', 'nir', 'swir1', 'swir2', 'pixel_qa']\n",
    "full_params = dict(platform=platform, product=product, \n",
    "                   latitude=latitude_extents, longitude=longitude_extents, \n",
    "                   time=time_extents, measurements=measurements, \n",
    "                   group_by='solar_day', dask_chunks={'time':1})\n",
    "continuing_task = False\n",
    "if os.path.exists(params_filepath):\n",
    "    with open(params_filepath, 'rb') as params_file:\n",
    "        old_params = pickle.load(params_file)\n",
    "        if old_params == full_params:\n",
    "            continuing_task = True\n",
    "\n",
    "progress_raster_file = \"{}/progress_raster.nc\".format(tmp_dir)\n",
    "progress_time_ind_file = \"{}/time_ind.pk\".format(tmp_dir)\n",
    "progress_timeslice_water_pct_file = \"{}/timeslice_water.nc\".format(tmp_dir)\n",
    "            \n",
    "# If the parameter set is new, record it and remove old progress files.\n",
    "if not continuing_task:\n",
    "    for root, dirs, files in os.walk(tmp_dir):\n",
    "        for file in files:\n",
    "            os.remove(os.path.join(root, file))\n",
    "    with open(params_filepath, 'wb') as params_file:\n",
    "        pickle.dump(full_params, params_file)\n",
    "    \n",
    "parameters = full_params.copy()\n",
    "del parameters['time']\n",
    "\n",
    "# Load the progress if any exists.\n",
    "if os.path.exists(progress_raster_file):\n",
    "    with xr.open_dataset(progress_raster_file) as raster_raster_file_handle:\n",
    "        landsat_dataset = raster_raster_file_handle.load()\n",
    "if os.path.exists(progress_time_ind_file):\n",
    "    with open(progress_time_ind_file, 'rb') as pickle_file:\n",
    "        last_completed_time_ind = pickle.load(pickle_file)\n",
    "else:\n",
    "    last_completed_time_ind = -1\n",
    "if os.path.exists(progress_timeslice_water_pct_file):\n",
    "    with xr.open_dataset(progress_timeslice_water_pct_file) as progress_timeslice_water_pct_file_handle:\n",
    "        timeslice_water_pct = progress_timeslice_water_pct_file_handle.load().timeslice_water_pct\n",
    "\n",
    "# Loop over all the time slices, processing each one.\n",
    "start_progress = (last_completed_time_ind+1)/len(ds_times)\n",
    "start_time = progbar(start_progress)\n",
    "for time_ind,t in enumerate(ds_times.values):\n",
    "    if time_ind <= last_completed_time_ind:\n",
    "        continue\n",
    "    parameters.update(dict(time=str(t)))\n",
    "    \n",
    "    timeslice_total_cloud = 0\n",
    "    timeslice_total_water = 0\n",
    "    \n",
    "    # Process each geographic chunk for this time slice.\n",
    "    for geo_chunk_ind, geographic_chunk in enumerate(geographic_chunks):\n",
    "        if geo_chunk_ind == 0:\n",
    "            print(\"Processing geographic chunks.\")\n",
    "        elif geo_chunk_ind % 5 == 0:\n",
    "            print(\"Processed {:.3%} of all geographic chunks.\".format(geo_chunk_ind / len(geographic_chunks)))\n",
    "        \n",
    "        landsat_slice_dict = dict(latitude=slice(*geographic_chunk['latitude'][::-1]),\n",
    "                                  longitude=slice(*geographic_chunk['longitude']))\n",
    "        geo_coords = landsat_dataset.sel(landsat_slice_dict).coords\n",
    "        # Get the actual geographic extents of this data.\n",
    "        geographic_chunk['latitude'] = geo_coords['latitude'][[0,-1]].values[::-1]\n",
    "        geographic_chunk['longitude'] = geo_coords['longitude'][[0,-1]].values\n",
    "        landsat_slice_dict = dict(latitude=slice(*geographic_chunk['latitude'][::-1]),\n",
    "                                  longitude=slice(*geographic_chunk['longitude']))\n",
    "        \n",
    "        parameters.update(geographic_chunk)\n",
    "        \n",
    "        landsat_chunk = dc.load(**parameters)\n",
    "        if is_dataset_empty(landsat_chunk):\n",
    "            continue\n",
    "        landsat_chunk = landsat_chunk.squeeze('time')\n",
    "        \n",
    "        # Mask Clouds\n",
    "        cloud_mask = landsat_qa_clean_mask(landsat_chunk, platform=platform) # bool\n",
    "        timeslice_total_cloud += cloud_mask.sum()\n",
    "    \n",
    "        # Add to total cloud-free pixel count.\n",
    "        chunk_count_total = landsat_dataset.count_total.sel(landsat_slice_dict)\n",
    "        chunk_count_total.values += cloud_mask.values\n",
    "    \n",
    "        # Classify Water\n",
    "        water_mask = wofs_classify(landsat_chunk, clean_mask = cloud_mask.values, mosaic=True, no_data=0).wofs.astype(np.bool)\n",
    "        timeslice_total_water += water_mask.sum()\n",
    "    \n",
    "        # Add to total water pixel count\n",
    "        chunk_count_water = landsat_dataset.count_water.sel(landsat_slice_dict)\n",
    "        chunk_count_water.values += water_mask.values\n",
    "\n",
    "    # Compute percent of cloud-free pixels that are water for this timeslice.\n",
    "    timeslice_water_pct[time_ind] = timeslice_total_water / timeslice_total_cloud\n",
    "    \n",
    "    # Save progress.\n",
    "    if os.path.exists(progress_raster_file):\n",
    "        os.remove(progress_raster_file)\n",
    "    landsat_dataset.to_netcdf(progress_raster_file)\n",
    "    if os.path.exists(progress_time_ind_file):\n",
    "        os.remove(progress_time_ind_file)\n",
    "    with open(progress_time_ind_file, 'wb') as pickle_file:\n",
    "        pickle.dump(time_ind, pickle_file)\n",
    "    if os.path.exists(progress_timeslice_water_pct_file):\n",
    "        os.remove(progress_timeslice_water_pct_file)\n",
    "    timeslice_water_pct.to_netcdf(progress_timeslice_water_pct_file)\n",
    "    \n",
    "    # Print progress bar\n",
    "    progbar((time_ind+1)/len(ds_times), start_time, start_progress)\n",
    "    \n",
    "    # Plot time slice water percentages (except when all values are NaN, which causes an error).\n",
    "    if ~np.all(np.isnan(timeslice_water_pct)):\n",
    "        timeslice_water_pct.plot(figsize=(12,2), marker='o', linestyle='None')\n",
    "        # plt.gca().set_yscale('log') # Change scaling of the Y axis to logarithmic\n",
    "        plt.xlim(timeslice_water_pct.time.values[[0,-1]])\n",
    "        plt.ylim(0, 1)\n",
    "        plt.show()\n",
    "    \n",
    "    # Draw map as we go\n",
    "    # landsat_dataset_low_res = xr_scale_res(landsat_dataset, frac_res=0.01)\n",
    "    # plt.imshow(landsat_dataset_low_res.count_water / landsat_dataset_low_res.count_total, \n",
    "    #            aspect='equal')\n",
    "    # plt.show()\n",
    "\n",
    "progbar(1)\n",
    "landsat_dataset"
   ]
  },
  {
   "cell_type": "markdown",
   "metadata": {
    "pycharm": {}
   },
   "source": [
    "## Time Series Water Detection Analysis\n",
    "Time series output of the Australian Water Detection from Space (WOFS) results. The results show the percent of time that a pixel is classified as water over the entire time series. BLUE = frequent water, RED = infrequent water."
   ]
  },
  {
   "cell_type": "code",
   "execution_count": 14,
   "metadata": {
    "pycharm": {}
   },
   "outputs": [],
   "source": [
    "# import color-scheme and set nans to black\n",
    "from matplotlib.cm import jet_r as jet_r\n",
    "jet_r.set_bad('black',1)"
   ]
  },
  {
   "cell_type": "code",
   "execution_count": 15,
   "metadata": {
    "pycharm": {}
   },
   "outputs": [
    {
     "data": {
      "image/png": "[encoded data removed]",
      "text/plain": [
       "<Figure size 1008x1008 with 2 Axes>"
      ]
     },
     "metadata": {
      "needs_background": "light"
     },
     "output_type": "display_data"
    }
   ],
   "source": [
    "# Here we plot the product we have created\n",
    "# Areas of RED have experienced little or no water over the time series\n",
    "# Areas of BLUE have experience significant or constant water over the time series\n",
    "\n",
    "tmp = landsat_dataset.count_water / landsat_dataset.count_total\n",
    "fig,ax = plt.subplots(figsize=(14,14))\n",
    "plt.imshow(tmp, cmap = jet_r, aspect=\"equal\", extent=(\n",
    "    landsat_dataset.longitude.min(),\n",
    "    landsat_dataset.longitude.max(),\n",
    "    landsat_dataset.latitude.min(),\n",
    "    landsat_dataset.latitude.max(),\n",
    "))\n",
    "plt.colorbar()\n",
    "plt.show()"
   ]
  },
  {
   "cell_type": "code",
   "execution_count": 16,
   "metadata": {
    "pycharm": {}
   },
   "outputs": [
    {
     "data": {
      "image/png": "[encoded data removed]",
      "text/plain": [
       "<Figure size 1080x216 with 1 Axes>"
      ]
     },
     "metadata": {
      "needs_background": "light"
     },
     "output_type": "display_data"
    }
   ],
   "source": [
    "# Here we plot the percentage of valid (non-cloudy) pixels that were identified as water for each time slice\n",
    "\n",
    "timeslice_water_pct.plot(figsize=(15,3), marker='o', linestyle='None')\n",
    "plt.show()"
   ]
  },
  {
   "cell_type": "code",
   "execution_count": 17,
   "metadata": {
    "pycharm": {}
   },
   "outputs": [
    {
     "data": {
      "image/png": "[encoded data removed]",
      "text/plain": [
       "<Figure size 1080x216 with 1 Axes>"
      ]
     },
     "metadata": {
      "needs_background": "light"
     },
     "output_type": "display_data"
    }
   ],
   "source": [
    "# It is often helpful to use a logarithmic scale when viewing these types of plots, as the \"interesting\"\n",
    "# behavior tends to be clustered near zero and large outliers can hide small trends.\n",
    "# The result below can be compared to the result above. \n",
    "\n",
    "timeslice_water_pct.plot(figsize=(15,3), marker='o', linestyle='None')\n",
    "plt.gca().set_yscale('log') # Change scaling of the Y axis to logarithmic\n",
    "plt.show()"
   ]
  },
  {
   "cell_type": "markdown",
   "metadata": {
    "pycharm": {
     "metadata": false,
     "name": "#%% md\n"
    }
   },
   "source": [
    "## Create GeoTIFF Output Products"
   ]
  },
  {
   "cell_type": "code",
   "execution_count": 18,
   "metadata": {
    "pycharm": {},
    "scrolled": true
   },
   "outputs": [],
   "source": [
    "# Save the water percentage image to a GeoTIFF.\n",
    "from utils.import_export import export_slice_to_geotiff\n",
    "\n",
    "dataset_to_export = xr.Dataset(coords=landsat_dataset.coords, attrs=landsat_dataset.attrs)\n",
    "dataset_to_export['wofs_pct'] = tmp.astype(np.float32).where(landsat_dataset.count_total>0)"
   ]
  },
  {
   "cell_type": "markdown",
   "metadata": {
    "pycharm": {
     "metadata": false,
     "name": "#%% md\n"
    }
   },
   "source": [
    "<p style=\"color:red\";><b>CHANGE INPUTS BELOW"
   ]
  },
  {
   "cell_type": "code",
   "execution_count": 19,
   "metadata": {
    "pycharm": {}
   },
   "outputs": [],
   "source": [
    "# The export command below is commented out to avoid overwriting files. \n",
    "# If you would like to export data, please check the file path before uncommenting the line\n",
    "# to ensure no files are accidentally lost.\n",
    "\n",
    "output_dir = 'output/geotiffs'\n",
    "if not os.path.exists(output_dir):\n",
    "    os.makedirs(output_dir)\n",
    "export_slice_to_geotiff(dataset_to_export, output_dir + '/WOFS_Percentage.tif')"
   ]
  },
  {
   "cell_type": "code",
   "execution_count": 20,
   "metadata": {
    "pycharm": {}
   },
   "outputs": [
    {
     "name": "stdout",
     "output_type": "stream",
     "text": [
      "-rw-r--r-- 1 jovyan users 352K Jun  5 02:50 output/geotiffs/WOFS_Percentage.tif\n"
     ]
    }
   ],
   "source": [
    "!ls -lah output/geotiffs/WOFS_Percentage.tif"
   ]
  },
  {
   "cell_type": "code",
   "execution_count": 21,
   "metadata": {
    "pycharm": {}
   },
   "outputs": [
    {
     "name": "stdout",
     "output_type": "stream",
     "text": [
      "Driver: GTiff/GeoTIFF\n",
      "Files: output/geotiffs/WOFS_Percentage.tif\n",
      "Size is 276, 325\n",
      "Coordinate System is:\n",
      "GEOGCS[\"WGS 84\",\n",
      "    DATUM[\"WGS_1984\",\n",
      "        SPHEROID[\"WGS 84\",6378137,298.257223563,\n",
      "            AUTHORITY[\"EPSG\",\"7030\"]],\n",
      "        AUTHORITY[\"EPSG\",\"6326\"]],\n",
      "    PRIMEM[\"Greenwich\",0],\n",
      "    UNIT[\"degree\",0.0174532925199433],\n",
      "    AUTHORITY[\"EPSG\",\"4326\"]]\n",
      "Origin = (39.602916666983496,-3.957361111142770)\n",
      "Pixel Size = (0.000276771336556,-0.000276923076925)\n",
      "Metadata:\n",
      "  AREA_OR_POINT=Area\n",
      "Image Structure Metadata:\n",
      "  INTERLEAVE=BAND\n",
      "Corner Coordinates:\n",
      "Upper Left  (  39.6029167,  -3.9573611) ( 39d36'10.50\"E,  3d57'26.50\"S)\n",
      "Lower Left  (  39.6029167,  -4.0473611) ( 39d36'10.50\"E,  4d 2'50.50\"S)\n",
      "Upper Right (  39.6793056,  -3.9573611) ( 39d40'45.50\"E,  3d57'26.50\"S)\n",
      "Lower Right (  39.6793056,  -4.0473611) ( 39d40'45.50\"E,  4d 2'50.50\"S)\n",
      "Center      (  39.6411111,  -4.0023611) ( 39d38'28.00\"E,  4d 0' 8.50\"S)\n",
      "Band 1 Block=276x7 Type=Float32, ColorInterp=Gray\n",
      "  NoData Value=-9999\n"
     ]
    }
   ],
   "source": [
    "!gdalinfo output/geotiffs/WOFS_Percentage.tif"
   ]
  }
 ],
 "metadata": {
  "kernelspec": {
   "display_name": "Python 3",
   "language": "python",
   "name": "python3"
  },
  "language_info": {
   "codemirror_mode": {
    "name": "ipython",
    "version": 3
   },
   "file_extension": ".py",
   "mimetype": "text/x-python",
   "name": "python",
   "nbconvert_exporter": "python",
   "pygments_lexer": "ipython3",
   "version": "3.6.8"
  },
  "pycharm": {
   "stem_cell": {
    "cell_type": "raw",
    "metadata": {
     "collapsed": false
    },
    "source": []
   }
  }
 },
 "nbformat": 4,
 "nbformat_minor": 4
}
